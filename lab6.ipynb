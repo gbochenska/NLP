{
 "cells": [
  {
   "cell_type": "markdown",
   "metadata": {
    "id": "T-PT5C603eUP"
   },
   "source": [
    "# Named entity recognition\n",
    "The exercise shows how we may extract elements such as names of companies, countries and similar objects from text.\n",
    "\n",
    "### Tasks\n",
    "Objectives (8 points):"
   ]
  },
  {
   "cell_type": "markdown",
   "metadata": {
    "id": "Eet51nnO3kun"
   },
   "source": [
    "\n",
    "1. Read the API of NER in Spacy\n",
    "2. Take 1 thousand random passages from the FIQA-PL corpus."
   ]
  },
  {
   "cell_type": "code",
   "execution_count": 2,
   "metadata": {
    "colab": {
     "base_uri": "https://localhost:8080/"
    },
    "id": "Ubqvl8pg30U-",
    "outputId": "be4da6d4-02cc-4ada-c095-5f5a6b65e0dd"
   },
   "outputs": [
    {
     "name": "stdout",
     "output_type": "stream",
     "text": [
      "Collecting datasets\n",
      "  Downloading datasets-3.1.0-py3-none-any.whl.metadata (20 kB)\n",
      "Requirement already satisfied: filelock in /usr/local/lib/python3.10/dist-packages (from datasets) (3.16.1)\n",
      "Requirement already satisfied: numpy>=1.17 in /usr/local/lib/python3.10/dist-packages (from datasets) (1.26.4)\n",
      "Requirement already satisfied: pyarrow>=15.0.0 in /usr/local/lib/python3.10/dist-packages (from datasets) (17.0.0)\n",
      "Collecting dill<0.3.9,>=0.3.0 (from datasets)\n",
      "  Downloading dill-0.3.8-py3-none-any.whl.metadata (10 kB)\n",
      "Requirement already satisfied: pandas in /usr/local/lib/python3.10/dist-packages (from datasets) (2.2.2)\n",
      "Requirement already satisfied: requests>=2.32.2 in /usr/local/lib/python3.10/dist-packages (from datasets) (2.32.3)\n",
      "Requirement already satisfied: tqdm>=4.66.3 in /usr/local/lib/python3.10/dist-packages (from datasets) (4.66.6)\n",
      "Collecting xxhash (from datasets)\n",
      "  Downloading xxhash-3.5.0-cp310-cp310-manylinux_2_17_x86_64.manylinux2014_x86_64.whl.metadata (12 kB)\n",
      "Collecting multiprocess<0.70.17 (from datasets)\n",
      "  Downloading multiprocess-0.70.16-py310-none-any.whl.metadata (7.2 kB)\n",
      "Collecting fsspec<=2024.9.0,>=2023.1.0 (from fsspec[http]<=2024.9.0,>=2023.1.0->datasets)\n",
      "  Downloading fsspec-2024.9.0-py3-none-any.whl.metadata (11 kB)\n",
      "Requirement already satisfied: aiohttp in /usr/local/lib/python3.10/dist-packages (from datasets) (3.11.1)\n",
      "Requirement already satisfied: huggingface-hub>=0.23.0 in /usr/local/lib/python3.10/dist-packages (from datasets) (0.26.2)\n",
      "Requirement already satisfied: packaging in /usr/local/lib/python3.10/dist-packages (from datasets) (24.2)\n",
      "Requirement already satisfied: pyyaml>=5.1 in /usr/local/lib/python3.10/dist-packages (from datasets) (6.0.2)\n",
      "Requirement already satisfied: aiohappyeyeballs>=2.3.0 in /usr/local/lib/python3.10/dist-packages (from aiohttp->datasets) (2.4.3)\n",
      "Requirement already satisfied: aiosignal>=1.1.2 in /usr/local/lib/python3.10/dist-packages (from aiohttp->datasets) (1.3.1)\n",
      "Requirement already satisfied: attrs>=17.3.0 in /usr/local/lib/python3.10/dist-packages (from aiohttp->datasets) (24.2.0)\n",
      "Requirement already satisfied: frozenlist>=1.1.1 in /usr/local/lib/python3.10/dist-packages (from aiohttp->datasets) (1.5.0)\n",
      "Requirement already satisfied: multidict<7.0,>=4.5 in /usr/local/lib/python3.10/dist-packages (from aiohttp->datasets) (6.1.0)\n",
      "Requirement already satisfied: propcache>=0.2.0 in /usr/local/lib/python3.10/dist-packages (from aiohttp->datasets) (0.2.0)\n",
      "Requirement already satisfied: yarl<2.0,>=1.17.0 in /usr/local/lib/python3.10/dist-packages (from aiohttp->datasets) (1.17.1)\n",
      "Requirement already satisfied: async-timeout<6.0,>=4.0 in /usr/local/lib/python3.10/dist-packages (from aiohttp->datasets) (4.0.3)\n",
      "Requirement already satisfied: typing-extensions>=3.7.4.3 in /usr/local/lib/python3.10/dist-packages (from huggingface-hub>=0.23.0->datasets) (4.12.2)\n",
      "Requirement already satisfied: charset-normalizer<4,>=2 in /usr/local/lib/python3.10/dist-packages (from requests>=2.32.2->datasets) (3.4.0)\n",
      "Requirement already satisfied: idna<4,>=2.5 in /usr/local/lib/python3.10/dist-packages (from requests>=2.32.2->datasets) (3.10)\n",
      "Requirement already satisfied: urllib3<3,>=1.21.1 in /usr/local/lib/python3.10/dist-packages (from requests>=2.32.2->datasets) (2.2.3)\n",
      "Requirement already satisfied: certifi>=2017.4.17 in /usr/local/lib/python3.10/dist-packages (from requests>=2.32.2->datasets) (2024.8.30)\n",
      "Requirement already satisfied: python-dateutil>=2.8.2 in /usr/local/lib/python3.10/dist-packages (from pandas->datasets) (2.8.2)\n",
      "Requirement already satisfied: pytz>=2020.1 in /usr/local/lib/python3.10/dist-packages (from pandas->datasets) (2024.2)\n",
      "Requirement already satisfied: tzdata>=2022.7 in /usr/local/lib/python3.10/dist-packages (from pandas->datasets) (2024.2)\n",
      "Requirement already satisfied: six>=1.5 in /usr/local/lib/python3.10/dist-packages (from python-dateutil>=2.8.2->pandas->datasets) (1.16.0)\n",
      "Downloading datasets-3.1.0-py3-none-any.whl (480 kB)\n",
      "\u001b[2K   \u001b[90m━━━━━━━━━━━━━━━━━━━━━━━━━━━━━━━━━━━━━━━━\u001b[0m \u001b[32m480.6/480.6 kB\u001b[0m \u001b[31m9.0 MB/s\u001b[0m eta \u001b[36m0:00:00\u001b[0m\n",
      "\u001b[?25hDownloading dill-0.3.8-py3-none-any.whl (116 kB)\n",
      "\u001b[2K   \u001b[90m━━━━━━━━━━━━━━━━━━━━━━━━━━━━━━━━━━━━━━━━\u001b[0m \u001b[32m116.3/116.3 kB\u001b[0m \u001b[31m8.5 MB/s\u001b[0m eta \u001b[36m0:00:00\u001b[0m\n",
      "\u001b[?25hDownloading fsspec-2024.9.0-py3-none-any.whl (179 kB)\n",
      "\u001b[2K   \u001b[90m━━━━━━━━━━━━━━━━━━━━━━━━━━━━━━━━━━━━━━━━\u001b[0m \u001b[32m179.3/179.3 kB\u001b[0m \u001b[31m11.7 MB/s\u001b[0m eta \u001b[36m0:00:00\u001b[0m\n",
      "\u001b[?25hDownloading multiprocess-0.70.16-py310-none-any.whl (134 kB)\n",
      "\u001b[2K   \u001b[90m━━━━━━━━━━━━━━━━━━━━━━━━━━━━━━━━━━━━━━━━\u001b[0m \u001b[32m134.8/134.8 kB\u001b[0m \u001b[31m9.1 MB/s\u001b[0m eta \u001b[36m0:00:00\u001b[0m\n",
      "\u001b[?25hDownloading xxhash-3.5.0-cp310-cp310-manylinux_2_17_x86_64.manylinux2014_x86_64.whl (194 kB)\n",
      "\u001b[2K   \u001b[90m━━━━━━━━━━━━━━━━━━━━━━━━━━━━━━━━━━━━━━━━\u001b[0m \u001b[32m194.1/194.1 kB\u001b[0m \u001b[31m13.2 MB/s\u001b[0m eta \u001b[36m0:00:00\u001b[0m\n",
      "\u001b[?25hInstalling collected packages: xxhash, fsspec, dill, multiprocess, datasets\n",
      "  Attempting uninstall: fsspec\n",
      "    Found existing installation: fsspec 2024.10.0\n",
      "    Uninstalling fsspec-2024.10.0:\n",
      "      Successfully uninstalled fsspec-2024.10.0\n",
      "\u001b[31mERROR: pip's dependency resolver does not currently take into account all the packages that are installed. This behaviour is the source of the following dependency conflicts.\n",
      "gcsfs 2024.10.0 requires fsspec==2024.10.0, but you have fsspec 2024.9.0 which is incompatible.\u001b[0m\u001b[31m\n",
      "\u001b[0mSuccessfully installed datasets-3.1.0 dill-0.3.8 fsspec-2024.9.0 multiprocess-0.70.16 xxhash-3.5.0\n"
     ]
    }
   ],
   "source": [
    "pip install datasets"
   ]
  },
  {
   "cell_type": "code",
   "execution_count": 9,
   "metadata": {
    "id": "OwyL5Yqo3nDk"
   },
   "outputs": [],
   "source": [
    "from datasets import load_dataset\n",
    "import random\n",
    "\n",
    "dataset = load_dataset(\"clarin-knext/fiqa-pl\", \"corpus\")\n",
    "corpus = dataset['corpus']\n",
    "\n",
    "random_passages = random.sample(corpus['text'], 1000)"
   ]
  },
  {
   "cell_type": "code",
   "execution_count": 23,
   "metadata": {
    "colab": {
     "base_uri": "https://localhost:8080/"
    },
    "id": "wGlxw_0H52Lj",
    "outputId": "f45b1692-d0f2-44a7-b1ce-221b485f0e43"
   },
   "outputs": [
    {
     "data": {
      "text/plain": [
       "['„Praca w usługach finansowych? Sprzedaż? Powodem jest to, że wiele miejsc pracy niezwiązanych ze sprzedażą wymaga dyplomu MBA i chociaż jest wiele wakatów, istnieje również TONA konkurencji. Wiele osób zdobywa tytuł MBA zaraz po studiach i rozpoczyna pracę na kilka bardzo dobrych miejsc pracy. Nie wierz mi? Przejrzyj kilka ofert pracy na bardzo młodsze stanowiska. Prawie KAŻDA rola menedżera, którą chcą uzyskać MBA - nawet te, które wymagają tylko ponad 2 lat doświadczenia, mówią „\"MBA preferowane „”, a zobaczysz, że na każde stanowisko są dziesiątki kandydatów. Zadzwoń do rekrutera, potwierdź to, co mówię”.',\n",
       " '\"Czy w ogóle czytałeś artykuł? To były osoby, które weszły do \\u200b\\u200bsklepu i zrobiły to osobiście. Nie ma \"\"zamówień\"\" do anulowania. Jeśli chodzi o unieważnienie kart, ponownie artykuł stwierdzał, że wiele osób wzięło Target kart podarunkowych i wykorzystał je do zakupu kart podarunkowych Amex i Visa. tl;dr **RTFA**\"',\n",
       " 'Tak, na pewno. I będzie jeszcze przez jakieś 3,5, może jeszcze 7,5 roku. Ale Derrick Rose ma minimum weterynarza i tylko 1 sezon na kontrakcie. Czy teraz będzie musiał sprawdzać się w każdym sezonie? Mam na myśli to, że z kontuzjami tak poważnymi jak on, uważam, że gra na wysokim poziomie jest wielkim sukcesem. Ale liga, w której Rose przechodzi na wcześniejszą emeryturę tylko dlatego, że drużyny nie składają ofert, teraz jest to liga, z której byłbym niezadowolony']"
      ]
     },
     "execution_count": 23,
     "metadata": {},
     "output_type": "execute_result"
    }
   ],
   "source": [
    "random_passages[:3]"
   ]
  },
  {
   "cell_type": "markdown",
   "metadata": {
    "id": "BeQmT0-Z4jdm"
   },
   "source": [
    "3. Use the lemmatized and sentence split documents (using SpaCy API for lemmatization and sentence splitting) to identify the expressions that consist of consecutive words starting with a capital letter (you will have to look at the inflected form of the word to check its capitalization) that do not occupy the first position in a sentence."
   ]
  },
  {
   "cell_type": "code",
   "execution_count": 16,
   "metadata": {
    "colab": {
     "base_uri": "https://localhost:8080/"
    },
    "id": "GFSgiErJ43PB",
    "outputId": "272b4246-375a-47db-83c5-3f416969f005"
   },
   "outputs": [
    {
     "name": "stdout",
     "output_type": "stream",
     "text": [
      "Collecting pl-core-news-sm==3.7.0\n",
      "  Downloading https://github.com/explosion/spacy-models/releases/download/pl_core_news_sm-3.7.0/pl_core_news_sm-3.7.0-py3-none-any.whl (20.2 MB)\n",
      "\u001b[2K     \u001b[90m━━━━━━━━━━━━━━━━━━━━━━━━━━━━━━━━━━━━━━━━\u001b[0m \u001b[32m20.2/20.2 MB\u001b[0m \u001b[31m41.1 MB/s\u001b[0m eta \u001b[36m0:00:00\u001b[0m\n",
      "\u001b[?25hRequirement already satisfied: spacy<3.8.0,>=3.7.0 in /usr/local/lib/python3.10/dist-packages (from pl-core-news-sm==3.7.0) (3.7.5)\n",
      "Requirement already satisfied: spacy-legacy<3.1.0,>=3.0.11 in /usr/local/lib/python3.10/dist-packages (from spacy<3.8.0,>=3.7.0->pl-core-news-sm==3.7.0) (3.0.12)\n",
      "Requirement already satisfied: spacy-loggers<2.0.0,>=1.0.0 in /usr/local/lib/python3.10/dist-packages (from spacy<3.8.0,>=3.7.0->pl-core-news-sm==3.7.0) (1.0.5)\n",
      "Requirement already satisfied: murmurhash<1.1.0,>=0.28.0 in /usr/local/lib/python3.10/dist-packages (from spacy<3.8.0,>=3.7.0->pl-core-news-sm==3.7.0) (1.0.10)\n",
      "Requirement already satisfied: cymem<2.1.0,>=2.0.2 in /usr/local/lib/python3.10/dist-packages (from spacy<3.8.0,>=3.7.0->pl-core-news-sm==3.7.0) (2.0.8)\n",
      "Requirement already satisfied: preshed<3.1.0,>=3.0.2 in /usr/local/lib/python3.10/dist-packages (from spacy<3.8.0,>=3.7.0->pl-core-news-sm==3.7.0) (3.0.9)\n",
      "Requirement already satisfied: thinc<8.3.0,>=8.2.2 in /usr/local/lib/python3.10/dist-packages (from spacy<3.8.0,>=3.7.0->pl-core-news-sm==3.7.0) (8.2.5)\n",
      "Requirement already satisfied: wasabi<1.2.0,>=0.9.1 in /usr/local/lib/python3.10/dist-packages (from spacy<3.8.0,>=3.7.0->pl-core-news-sm==3.7.0) (1.1.3)\n",
      "Requirement already satisfied: srsly<3.0.0,>=2.4.3 in /usr/local/lib/python3.10/dist-packages (from spacy<3.8.0,>=3.7.0->pl-core-news-sm==3.7.0) (2.4.8)\n",
      "Requirement already satisfied: catalogue<2.1.0,>=2.0.6 in /usr/local/lib/python3.10/dist-packages (from spacy<3.8.0,>=3.7.0->pl-core-news-sm==3.7.0) (2.0.10)\n",
      "Requirement already satisfied: weasel<0.5.0,>=0.1.0 in /usr/local/lib/python3.10/dist-packages (from spacy<3.8.0,>=3.7.0->pl-core-news-sm==3.7.0) (0.4.1)\n",
      "Requirement already satisfied: typer<1.0.0,>=0.3.0 in /usr/local/lib/python3.10/dist-packages (from spacy<3.8.0,>=3.7.0->pl-core-news-sm==3.7.0) (0.13.0)\n",
      "Requirement already satisfied: tqdm<5.0.0,>=4.38.0 in /usr/local/lib/python3.10/dist-packages (from spacy<3.8.0,>=3.7.0->pl-core-news-sm==3.7.0) (4.66.6)\n",
      "Requirement already satisfied: requests<3.0.0,>=2.13.0 in /usr/local/lib/python3.10/dist-packages (from spacy<3.8.0,>=3.7.0->pl-core-news-sm==3.7.0) (2.32.3)\n",
      "Requirement already satisfied: pydantic!=1.8,!=1.8.1,<3.0.0,>=1.7.4 in /usr/local/lib/python3.10/dist-packages (from spacy<3.8.0,>=3.7.0->pl-core-news-sm==3.7.0) (2.9.2)\n",
      "Requirement already satisfied: jinja2 in /usr/local/lib/python3.10/dist-packages (from spacy<3.8.0,>=3.7.0->pl-core-news-sm==3.7.0) (3.1.4)\n",
      "Requirement already satisfied: setuptools in /usr/local/lib/python3.10/dist-packages (from spacy<3.8.0,>=3.7.0->pl-core-news-sm==3.7.0) (75.1.0)\n",
      "Requirement already satisfied: packaging>=20.0 in /usr/local/lib/python3.10/dist-packages (from spacy<3.8.0,>=3.7.0->pl-core-news-sm==3.7.0) (24.2)\n",
      "Requirement already satisfied: langcodes<4.0.0,>=3.2.0 in /usr/local/lib/python3.10/dist-packages (from spacy<3.8.0,>=3.7.0->pl-core-news-sm==3.7.0) (3.4.1)\n",
      "Requirement already satisfied: numpy>=1.19.0 in /usr/local/lib/python3.10/dist-packages (from spacy<3.8.0,>=3.7.0->pl-core-news-sm==3.7.0) (1.26.4)\n",
      "Requirement already satisfied: language-data>=1.2 in /usr/local/lib/python3.10/dist-packages (from langcodes<4.0.0,>=3.2.0->spacy<3.8.0,>=3.7.0->pl-core-news-sm==3.7.0) (1.2.0)\n",
      "Requirement already satisfied: annotated-types>=0.6.0 in /usr/local/lib/python3.10/dist-packages (from pydantic!=1.8,!=1.8.1,<3.0.0,>=1.7.4->spacy<3.8.0,>=3.7.0->pl-core-news-sm==3.7.0) (0.7.0)\n",
      "Requirement already satisfied: pydantic-core==2.23.4 in /usr/local/lib/python3.10/dist-packages (from pydantic!=1.8,!=1.8.1,<3.0.0,>=1.7.4->spacy<3.8.0,>=3.7.0->pl-core-news-sm==3.7.0) (2.23.4)\n",
      "Requirement already satisfied: typing-extensions>=4.6.1 in /usr/local/lib/python3.10/dist-packages (from pydantic!=1.8,!=1.8.1,<3.0.0,>=1.7.4->spacy<3.8.0,>=3.7.0->pl-core-news-sm==3.7.0) (4.12.2)\n",
      "Requirement already satisfied: charset-normalizer<4,>=2 in /usr/local/lib/python3.10/dist-packages (from requests<3.0.0,>=2.13.0->spacy<3.8.0,>=3.7.0->pl-core-news-sm==3.7.0) (3.4.0)\n",
      "Requirement already satisfied: idna<4,>=2.5 in /usr/local/lib/python3.10/dist-packages (from requests<3.0.0,>=2.13.0->spacy<3.8.0,>=3.7.0->pl-core-news-sm==3.7.0) (3.10)\n",
      "Requirement already satisfied: urllib3<3,>=1.21.1 in /usr/local/lib/python3.10/dist-packages (from requests<3.0.0,>=2.13.0->spacy<3.8.0,>=3.7.0->pl-core-news-sm==3.7.0) (2.2.3)\n",
      "Requirement already satisfied: certifi>=2017.4.17 in /usr/local/lib/python3.10/dist-packages (from requests<3.0.0,>=2.13.0->spacy<3.8.0,>=3.7.0->pl-core-news-sm==3.7.0) (2024.8.30)\n",
      "Requirement already satisfied: blis<0.8.0,>=0.7.8 in /usr/local/lib/python3.10/dist-packages (from thinc<8.3.0,>=8.2.2->spacy<3.8.0,>=3.7.0->pl-core-news-sm==3.7.0) (0.7.11)\n",
      "Requirement already satisfied: confection<1.0.0,>=0.0.1 in /usr/local/lib/python3.10/dist-packages (from thinc<8.3.0,>=8.2.2->spacy<3.8.0,>=3.7.0->pl-core-news-sm==3.7.0) (0.1.5)\n",
      "Requirement already satisfied: click>=8.0.0 in /usr/local/lib/python3.10/dist-packages (from typer<1.0.0,>=0.3.0->spacy<3.8.0,>=3.7.0->pl-core-news-sm==3.7.0) (8.1.7)\n",
      "Requirement already satisfied: shellingham>=1.3.0 in /usr/local/lib/python3.10/dist-packages (from typer<1.0.0,>=0.3.0->spacy<3.8.0,>=3.7.0->pl-core-news-sm==3.7.0) (1.5.4)\n",
      "Requirement already satisfied: rich>=10.11.0 in /usr/local/lib/python3.10/dist-packages (from typer<1.0.0,>=0.3.0->spacy<3.8.0,>=3.7.0->pl-core-news-sm==3.7.0) (13.9.4)\n",
      "Requirement already satisfied: cloudpathlib<1.0.0,>=0.7.0 in /usr/local/lib/python3.10/dist-packages (from weasel<0.5.0,>=0.1.0->spacy<3.8.0,>=3.7.0->pl-core-news-sm==3.7.0) (0.20.0)\n",
      "Requirement already satisfied: smart-open<8.0.0,>=5.2.1 in /usr/local/lib/python3.10/dist-packages (from weasel<0.5.0,>=0.1.0->spacy<3.8.0,>=3.7.0->pl-core-news-sm==3.7.0) (7.0.5)\n",
      "Requirement already satisfied: MarkupSafe>=2.0 in /usr/local/lib/python3.10/dist-packages (from jinja2->spacy<3.8.0,>=3.7.0->pl-core-news-sm==3.7.0) (3.0.2)\n",
      "Requirement already satisfied: marisa-trie>=0.7.7 in /usr/local/lib/python3.10/dist-packages (from language-data>=1.2->langcodes<4.0.0,>=3.2.0->spacy<3.8.0,>=3.7.0->pl-core-news-sm==3.7.0) (1.2.1)\n",
      "Requirement already satisfied: markdown-it-py>=2.2.0 in /usr/local/lib/python3.10/dist-packages (from rich>=10.11.0->typer<1.0.0,>=0.3.0->spacy<3.8.0,>=3.7.0->pl-core-news-sm==3.7.0) (3.0.0)\n",
      "Requirement already satisfied: pygments<3.0.0,>=2.13.0 in /usr/local/lib/python3.10/dist-packages (from rich>=10.11.0->typer<1.0.0,>=0.3.0->spacy<3.8.0,>=3.7.0->pl-core-news-sm==3.7.0) (2.18.0)\n",
      "Requirement already satisfied: wrapt in /usr/local/lib/python3.10/dist-packages (from smart-open<8.0.0,>=5.2.1->weasel<0.5.0,>=0.1.0->spacy<3.8.0,>=3.7.0->pl-core-news-sm==3.7.0) (1.16.0)\n",
      "Requirement already satisfied: mdurl~=0.1 in /usr/local/lib/python3.10/dist-packages (from markdown-it-py>=2.2.0->rich>=10.11.0->typer<1.0.0,>=0.3.0->spacy<3.8.0,>=3.7.0->pl-core-news-sm==3.7.0) (0.1.2)\n",
      "Installing collected packages: pl-core-news-sm\n",
      "Successfully installed pl-core-news-sm-3.7.0\n",
      "\u001b[38;5;2m✔ Download and installation successful\u001b[0m\n",
      "You can now load the package via spacy.load('pl_core_news_sm')\n",
      "\u001b[38;5;3m⚠ Restart to reload dependencies\u001b[0m\n",
      "If you are in a Jupyter or Colab notebook, you may need to restart Python in\n",
      "order to load all the package's dependencies. You can do this by selecting the\n",
      "'Restart kernel' or 'Restart runtime' option.\n"
     ]
    }
   ],
   "source": [
    "!python -m spacy download pl_core_news_sm"
   ]
  },
  {
   "cell_type": "code",
   "execution_count": 17,
   "metadata": {
    "id": "_uyAGp4Q4iu6"
   },
   "outputs": [],
   "source": [
    "import spacy\n",
    "\n",
    "nlp = spacy.load(\"pl_core_news_sm\")"
   ]
  },
  {
   "cell_type": "code",
   "execution_count": 28,
   "metadata": {
    "colab": {
     "base_uri": "https://localhost:8080/"
    },
    "id": "qKzMkClH6Jwo",
    "outputId": "6d684c75-3228-459d-80a5-fc9eb550c9ca"
   },
   "outputs": [
    {
     "name": "stdout",
     "output_type": "stream",
     "text": [
      "MBA\n",
      "MBA\n",
      "Amex\n",
      "Visa\n",
      "RTFA\n",
      "Derrick Rose\n",
      "Rose\n",
      "Ameryka\n",
      "Missouri\n",
      "Stany\n"
     ]
    }
   ],
   "source": [
    "texts = random_passages\n",
    "\n",
    "def extract_capitalized_phrases(text):\n",
    "    doc = nlp(text)\n",
    "    capitalized_phrases = []\n",
    "\n",
    "    for sentence in doc.sents:\n",
    "        phrase = []\n",
    "        for token in sentence:\n",
    "            if token.text[0].isupper() and token.i != sentence[0].i:\n",
    "                if token.pos_ == 'PROPN':\n",
    "                    phrase.append(token.lemma_)\n",
    "                else:\n",
    "                    if phrase:\n",
    "                        capitalized_phrases.append(\" \".join(phrase))\n",
    "                        phrase = []\n",
    "            else:\n",
    "                if phrase:\n",
    "                    capitalized_phrases.append(\" \".join(phrase))\n",
    "                    phrase = []\n",
    "\n",
    "        if phrase:\n",
    "            capitalized_phrases.append(\" \".join(phrase)) \n",
    "\n",
    "    return capitalized_phrases\n",
    "\n",
    "all_phrases = []\n",
    "for text in texts:  \n",
    "    phrases = extract_capitalized_phrases(text)\n",
    "    all_phrases.extend(phrases)\n",
    "\n",
    "\n",
    "for phrase in all_phrases[:10]: \n",
    "    print(phrase)"
   ]
  },
  {
   "cell_type": "markdown",
   "metadata": {
    "id": "pko9idNQ7s_1"
   },
   "source": [
    "4. Compute the frequency of each identified expression and print 50 results with the largest number of occurrences."
   ]
  },
  {
   "cell_type": "code",
   "execution_count": 29,
   "metadata": {
    "colab": {
     "base_uri": "https://localhost:8080/"
    },
    "id": "S1mLUYKN7ymV",
    "outputId": "c86af1f6-83de-423d-c27c-f81ab04f7818"
   },
   "outputs": [
    {
     "name": "stdout",
     "output_type": "stream",
     "text": [
      "USA: 87\n",
      "IRA: 55\n",
      "Stany: 45\n",
      "ETF: 38\n",
      "HSA: 29\n",
      "IRS: 26\n",
      "Indie: 20\n",
      "Europa: 18\n",
      "CD: 18\n",
      "Vanguard: 18\n",
      "Brytania: 17\n",
      "LLC: 16\n",
      "Amazon: 16\n",
      "ISA: 15\n",
      "Google: 14\n",
      "Roth IRA: 14\n",
      "HFT: 13\n",
      "Roth: 12\n",
      "Microsoft: 12\n",
      "Londyn: 12\n",
      "Ameryka: 10\n",
      "Internet: 10\n",
      "PM: 10\n",
      "Trump: 10\n",
      "Facebook: 10\n",
      "GBP: 10\n",
      "Apple: 9\n",
      "HR: 9\n",
      "Amerykanin: 8\n",
      "FDIC: 8\n",
      "TFSA: 8\n",
      "Kanada: 8\n",
      "MBA: 7\n",
      "DTI: 7\n",
      "CPA: 7\n",
      "Fed: 7\n",
      "Yahoo: 7\n",
      "CV: 7\n",
      "Target: 7\n",
      "Tesla: 7\n",
      "Lợi: 7\n",
      "Miami: 7\n",
      "GM: 6\n",
      "Izrael: 6\n",
      "INTC: 6\n",
      "Cisco: 6\n",
      "Kalifornia: 6\n",
      "WSJ: 6\n",
      "VFINX: 6\n",
      "SIM: 6\n"
     ]
    }
   ],
   "source": [
    "from collections import Counter\n",
    "\n",
    "phrase_counts = Counter(all_phrases)\n",
    "\n",
    "top_50_phrases = phrase_counts.most_common(50)\n",
    "for phrase, count in top_50_phrases:\n",
    "    print(f\"{phrase}: {count}\")"
   ]
  },
  {
   "cell_type": "markdown",
   "metadata": {
    "id": "QFCQ7yn27-2C"
   },
   "source": [
    "5. Apply the NER from SpaCy to identify the named entities in the same set of documents."
   ]
  },
  {
   "cell_type": "code",
   "execution_count": 37,
   "metadata": {
    "colab": {
     "base_uri": "https://localhost:8080/"
    },
    "id": "2EF4r9Jm8FzJ",
    "outputId": "38bc529c-f107-43a0-b9cd-7c9438ae0f4a"
   },
   "outputs": [
    {
     "name": "stdout",
     "output_type": "stream",
     "text": [
      "orgName\n",
      "orgName\n",
      "orgName\n",
      "persName\n",
      "persName\n",
      "persName\n",
      "persName\n",
      "geogName\n",
      "persName\n",
      "placeName\n"
     ]
    }
   ],
   "source": [
    "import spacy\n",
    "from datasets import load_dataset\n",
    "\n",
    "def extract_named_entities(text):\n",
    "    doc = nlp(text)\n",
    "    named_entities = []\n",
    "\n",
    "    for ent in doc.ents:\n",
    "        named_entities.append(ent.label_)\n",
    "\n",
    "    return named_entities\n",
    "\n",
    "all_entity_labels = []\n",
    "for text in texts:\n",
    "    entity_labels = extract_named_entities(text)\n",
    "    all_entity_labels.extend(entity_labels)\n",
    "\n",
    "for entity in all_entity_labels[:10]:\n",
    "    print(f\"{entity}\")"
   ]
  },
  {
   "cell_type": "markdown",
   "metadata": {
    "id": "lvaw3XYe8i3-"
   },
   "source": [
    "6. Plot the frequency (histogram) of the identified classes."
   ]
  },
  {
   "cell_type": "code",
   "execution_count": 38,
   "metadata": {
    "colab": {
     "base_uri": "https://localhost:8080/",
     "height": 624
    },
    "id": "r5M8PcZV86Ry",
    "outputId": "fe6b74b8-67d1-4850-9e27-ef1feffd2b6e"
   },
   "outputs": [
    {
     "name": "stdout",
     "output_type": "stream",
     "text": [
      "<class 'list'> <class 'list'>\n"
     ]
    },
    {
     "data": {
      "image/png": "[encoded data removed]",
      "text/plain": [
       "<Figure size 1000x600 with 1 Axes>"
      ]
     },
     "metadata": {},
     "output_type": "display_data"
    }
   ],
   "source": [
    "import matplotlib.pyplot as plt\n",
    "\n",
    "entity_label_counts = Counter(all_entity_labels)\n",
    "\n",
    "labels = list(entity_label_counts.keys())\n",
    "counts = list(entity_label_counts.values())\n",
    "\n",
    "print(type(labels), type(counts))\n",
    "\n",
    "plt.figure(figsize=(10, 6))\n",
    "plt.bar(labels, counts, color='skyblue')\n",
    "plt.title('Frequency of Named Entity Classes')\n",
    "plt.xlabel('Entity Class')\n",
    "plt.ylabel('Frequency')\n",
    "plt.xticks(rotation=45, ha='right')\n",
    "plt.tight_layout()\n",
    "plt.show()"
   ]
  },
  {
   "cell_type": "markdown",
   "metadata": {
    "id": "yrGuTFGK-fhN"
   },
   "source": [
    "7. Display 10 most frequent Named Entities for each identified type."
   ]
  },
  {
   "cell_type": "code",
   "execution_count": 40,
   "metadata": {
    "colab": {
     "base_uri": "https://localhost:8080/"
    },
    "id": "ZXWs5kLM-lrs",
    "outputId": "c19fb45c-42d1-4e7f-b660-d42cfb6b702c"
   },
   "outputs": [
    {
     "name": "stdout",
     "output_type": "stream",
     "text": [
      "Top 10 for orgName:\n",
      "  IRA: 54\n",
      "  ETF: 33\n",
      "  HSA: 24\n",
      "  Roth IRA: 15\n",
      "  S&P: 12\n",
      "  Microsoft: 12\n",
      "  Google: 11\n",
      "  LLC: 11\n",
      "  Apple: 10\n",
      "  Target: 9\n",
      "\n",
      "Top 10 for persName:\n",
      "  Amazon: 18\n",
      "  Vanguard: 17\n",
      "  gdybyś: 9\n",
      "  Aktywa: 5\n",
      "  Gdybyś: 5\n",
      "  Trump: 5\n",
      "  jakbyś: 5\n",
      "  Walmart: 4\n",
      "  Detroit: 4\n",
      "  Wyklucz: 4\n",
      "\n",
      "Top 10 for geogName:\n",
      "  Europie: 12\n",
      "  europejskich: 4\n",
      "  Twitterze: 4\n",
      "  Aldi: 4\n",
      "  Europa: 3\n",
      "  Aldi Nord: 3\n",
      "  Aldi Süd: 3\n",
      "  TPS: 2\n",
      "  azjatyckich: 2\n",
      "  Europy: 2\n",
      "\n",
      "Top 10 for placeName:\n",
      "  USA: 88\n",
      "  Stany Zjednoczone: 18\n",
      "  amerykańskich: 15\n",
      "  Wielkiej Brytanii: 14\n",
      "  Stanach Zjednoczonych: 13\n",
      "  Indiach: 12\n",
      "  Stanów Zjednoczonych: 10\n",
      "  amerykańskie: 10\n",
      "  amerykańskiej: 8\n",
      "  Londynie: 8\n",
      "\n",
      "Top 10 for date:\n",
      "  2016 r.: 9\n",
      "  2008 roku: 8\n",
      "  1099: 5\n",
      "  2007 r.: 5\n",
      "  2015 r.: 5\n",
      "  XX wieku: 4\n",
      "  2014: 3\n",
      "  1040: 3\n",
      "  1995 roku: 3\n",
      "  2013: 3\n",
      "\n",
      "Top 10 for time:\n",
      "  11: 5\n",
      "  17.: 1\n",
      "  03.: 1\n",
      "  14.: 1\n",
      "  12/13: 1\n",
      "\n"
     ]
    }
   ],
   "source": [
    "from collections import defaultdict\n",
    "\n",
    "def extract_named_entities(text):\n",
    "    doc = nlp(text)\n",
    "    named_entities = []\n",
    "\n",
    "    for ent in doc.ents:\n",
    "        # Zbieramy jednostki i ich etykiety\n",
    "        named_entities.append((ent.text, ent.label_))\n",
    "\n",
    "    return named_entities\n",
    "\n",
    "entity_by_type = defaultdict(Counter)\n",
    "\n",
    "for text in texts:\n",
    "    entities = extract_named_entities(text)\n",
    "    for entity_text, entity_label in entities:\n",
    "        entity_by_type[entity_label][entity_text] += 1\n",
    "\n",
    "for entity_label, counter in entity_by_type.items():\n",
    "    print(f\"Top 10 for {entity_label}:\")\n",
    "    top_10_entities = counter.most_common(10)\n",
    "    for entity, count in top_10_entities:\n",
    "        print(f\"  {entity}: {count}\")\n",
    "    print()"
   ]
  },
  {
   "cell_type": "markdown",
   "metadata": {
    "id": "cAryXa-c-45R"
   },
   "source": [
    "8. Display 50 most frequent Named Entities including their count and type."
   ]
  },
  {
   "cell_type": "code",
   "execution_count": 41,
   "metadata": {
    "colab": {
     "base_uri": "https://localhost:8080/"
    },
    "id": "bvVF2rdN--Uh",
    "outputId": "c30e4134-8c9e-4087-ff16-7c4c173b786b"
   },
   "outputs": [
    {
     "name": "stdout",
     "output_type": "stream",
     "text": [
      "Top 50 most frequent named entities:\n",
      "USA (placeName): 88\n",
      "IRA (orgName): 54\n",
      "ETF (orgName): 33\n",
      "HSA (orgName): 24\n",
      "Stany Zjednoczone (placeName): 18\n",
      "Amazon (persName): 18\n",
      "Vanguard (persName): 17\n",
      "Roth IRA (orgName): 15\n",
      "amerykańskich (placeName): 15\n",
      "Wielkiej Brytanii (placeName): 14\n",
      "Stanach Zjednoczonych (placeName): 13\n",
      "Europie (geogName): 12\n",
      "S&P (orgName): 12\n",
      "Microsoft (orgName): 12\n",
      "Indiach (placeName): 12\n",
      "Google (orgName): 11\n",
      "LLC (orgName): 11\n",
      "Apple (orgName): 10\n",
      "Stanów Zjednoczonych (placeName): 10\n",
      "amerykańskie (placeName): 10\n",
      "Target (orgName): 9\n",
      "gdybyś (persName): 9\n",
      "2016 r. (date): 9\n",
      "IRS (orgName): 9\n",
      "MBA (orgName): 8\n",
      "2008 roku (date): 8\n",
      "amerykańskiej (placeName): 8\n",
      "Londynie (placeName): 8\n",
      "SIM (orgName): 8\n",
      "Roth (orgName): 7\n",
      "Amerykanie (placeName): 7\n",
      "Kalifornia (placeName): 7\n",
      "Toronto (placeName): 7\n",
      "CPA (orgName): 6\n",
      "GM (orgName): 6\n",
      "Amerykanów (placeName): 6\n",
      "& (orgName): 6\n",
      "NRO (orgName): 6\n",
      "amerykański (placeName): 6\n",
      "Cisco (orgName): 6\n",
      "WSJ (orgName): 6\n",
      "eTrade (orgName): 6\n",
      "Limo Mia GT (orgName): 6\n",
      "Miami (placeName): 6\n",
      "Aktywa (persName): 5\n",
      "Yahoo (orgName): 5\n",
      "AMC (orgName): 5\n",
      "Gdybyś (persName): 5\n",
      "Indii (placeName): 5\n",
      "1099 (date): 5\n"
     ]
    }
   ],
   "source": [
    "all_entities = []\n",
    "\n",
    "for text in texts:\n",
    "    entities = extract_named_entities(text)\n",
    "    all_entities.extend(entities)\n",
    "\n",
    "entity_counter = Counter(all_entities)\n",
    "\n",
    "print(f\"Top 50 most frequent named entities:\")\n",
    "for (entity, label), count in entity_counter.most_common(50):\n",
    "    print(f\"{entity} ({label}): {count}\")"
   ]
  },
  {
   "cell_type": "markdown",
   "metadata": {
    "id": "JG2MMJOs_ZDG"
   },
   "source": [
    "9. Display 5 sentences containing at least 2 recognized named entities with different types. Highlight the recognized spans with color. (For demo application Streamlit might be useful for displaying NER results)."
   ]
  },
  {
   "cell_type": "code",
   "execution_count": 44,
   "metadata": {
    "colab": {
     "base_uri": "https://localhost:8080/"
    },
    "id": "N6gkVA4X_8iS",
    "outputId": "6af32e0b-58ce-4ea0-e4ef-7a1688c77bc5"
   },
   "outputs": [
    {
     "name": "stdout",
     "output_type": "stream",
     "text": [
      "Collecting streamlit\n",
      "  Downloading streamlit-1.40.1-py2.py3-none-any.whl.metadata (8.5 kB)\n",
      "Requirement already satisfied: altair<6,>=4.0 in /usr/local/lib/python3.10/dist-packages (from streamlit) (4.2.2)\n",
      "Requirement already satisfied: blinker<2,>=1.0.0 in /usr/local/lib/python3.10/dist-packages (from streamlit) (1.9.0)\n",
      "Requirement already satisfied: cachetools<6,>=4.0 in /usr/local/lib/python3.10/dist-packages (from streamlit) (5.5.0)\n",
      "Requirement already satisfied: click<9,>=7.0 in /usr/local/lib/python3.10/dist-packages (from streamlit) (8.1.7)\n",
      "Requirement already satisfied: numpy<3,>=1.20 in /usr/local/lib/python3.10/dist-packages (from streamlit) (1.26.4)\n",
      "Requirement already satisfied: packaging<25,>=20 in /usr/local/lib/python3.10/dist-packages (from streamlit) (24.2)\n",
      "Requirement already satisfied: pandas<3,>=1.4.0 in /usr/local/lib/python3.10/dist-packages (from streamlit) (2.2.2)\n",
      "Requirement already satisfied: pillow<12,>=7.1.0 in /usr/local/lib/python3.10/dist-packages (from streamlit) (11.0.0)\n",
      "Requirement already satisfied: protobuf<6,>=3.20 in /usr/local/lib/python3.10/dist-packages (from streamlit) (4.25.5)\n",
      "Requirement already satisfied: pyarrow>=7.0 in /usr/local/lib/python3.10/dist-packages (from streamlit) (17.0.0)\n",
      "Requirement already satisfied: requests<3,>=2.27 in /usr/local/lib/python3.10/dist-packages (from streamlit) (2.32.3)\n",
      "Requirement already satisfied: rich<14,>=10.14.0 in /usr/local/lib/python3.10/dist-packages (from streamlit) (13.9.4)\n",
      "Requirement already satisfied: tenacity<10,>=8.1.0 in /usr/local/lib/python3.10/dist-packages (from streamlit) (9.0.0)\n",
      "Requirement already satisfied: toml<2,>=0.10.1 in /usr/local/lib/python3.10/dist-packages (from streamlit) (0.10.2)\n",
      "Requirement already satisfied: typing-extensions<5,>=4.3.0 in /usr/local/lib/python3.10/dist-packages (from streamlit) (4.12.2)\n",
      "Requirement already satisfied: gitpython!=3.1.19,<4,>=3.0.7 in /usr/local/lib/python3.10/dist-packages (from streamlit) (3.1.43)\n",
      "Collecting pydeck<1,>=0.8.0b4 (from streamlit)\n",
      "  Downloading pydeck-0.9.1-py2.py3-none-any.whl.metadata (4.1 kB)\n",
      "Requirement already satisfied: tornado<7,>=6.0.3 in /usr/local/lib/python3.10/dist-packages (from streamlit) (6.3.3)\n",
      "Collecting watchdog<7,>=2.1.5 (from streamlit)\n",
      "  Downloading watchdog-6.0.0-py3-none-manylinux2014_x86_64.whl.metadata (44 kB)\n",
      "\u001b[2K     \u001b[90m━━━━━━━━━━━━━━━━━━━━━━━━━━━━━━━━━━━━━━━━\u001b[0m \u001b[32m44.3/44.3 kB\u001b[0m \u001b[31m1.7 MB/s\u001b[0m eta \u001b[36m0:00:00\u001b[0m\n",
      "\u001b[?25hRequirement already satisfied: entrypoints in /usr/local/lib/python3.10/dist-packages (from altair<6,>=4.0->streamlit) (0.4)\n",
      "Requirement already satisfied: jinja2 in /usr/local/lib/python3.10/dist-packages (from altair<6,>=4.0->streamlit) (3.1.4)\n",
      "Requirement already satisfied: jsonschema>=3.0 in /usr/local/lib/python3.10/dist-packages (from altair<6,>=4.0->streamlit) (4.23.0)\n",
      "Requirement already satisfied: toolz in /usr/local/lib/python3.10/dist-packages (from altair<6,>=4.0->streamlit) (0.12.1)\n",
      "Requirement already satisfied: gitdb<5,>=4.0.1 in /usr/local/lib/python3.10/dist-packages (from gitpython!=3.1.19,<4,>=3.0.7->streamlit) (4.0.11)\n",
      "Requirement already satisfied: python-dateutil>=2.8.2 in /usr/local/lib/python3.10/dist-packages (from pandas<3,>=1.4.0->streamlit) (2.8.2)\n",
      "Requirement already satisfied: pytz>=2020.1 in /usr/local/lib/python3.10/dist-packages (from pandas<3,>=1.4.0->streamlit) (2024.2)\n",
      "Requirement already satisfied: tzdata>=2022.7 in /usr/local/lib/python3.10/dist-packages (from pandas<3,>=1.4.0->streamlit) (2024.2)\n",
      "Requirement already satisfied: charset-normalizer<4,>=2 in /usr/local/lib/python3.10/dist-packages (from requests<3,>=2.27->streamlit) (3.4.0)\n",
      "Requirement already satisfied: idna<4,>=2.5 in /usr/local/lib/python3.10/dist-packages (from requests<3,>=2.27->streamlit) (3.10)\n",
      "Requirement already satisfied: urllib3<3,>=1.21.1 in /usr/local/lib/python3.10/dist-packages (from requests<3,>=2.27->streamlit) (2.2.3)\n",
      "Requirement already satisfied: certifi>=2017.4.17 in /usr/local/lib/python3.10/dist-packages (from requests<3,>=2.27->streamlit) (2024.8.30)\n",
      "Requirement already satisfied: markdown-it-py>=2.2.0 in /usr/local/lib/python3.10/dist-packages (from rich<14,>=10.14.0->streamlit) (3.0.0)\n",
      "Requirement already satisfied: pygments<3.0.0,>=2.13.0 in /usr/local/lib/python3.10/dist-packages (from rich<14,>=10.14.0->streamlit) (2.18.0)\n",
      "Requirement already satisfied: smmap<6,>=3.0.1 in /usr/local/lib/python3.10/dist-packages (from gitdb<5,>=4.0.1->gitpython!=3.1.19,<4,>=3.0.7->streamlit) (5.0.1)\n",
      "Requirement already satisfied: MarkupSafe>=2.0 in /usr/local/lib/python3.10/dist-packages (from jinja2->altair<6,>=4.0->streamlit) (3.0.2)\n",
      "Requirement already satisfied: attrs>=22.2.0 in /usr/local/lib/python3.10/dist-packages (from jsonschema>=3.0->altair<6,>=4.0->streamlit) (24.2.0)\n",
      "Requirement already satisfied: jsonschema-specifications>=2023.03.6 in /usr/local/lib/python3.10/dist-packages (from jsonschema>=3.0->altair<6,>=4.0->streamlit) (2024.10.1)\n",
      "Requirement already satisfied: referencing>=0.28.4 in /usr/local/lib/python3.10/dist-packages (from jsonschema>=3.0->altair<6,>=4.0->streamlit) (0.35.1)\n",
      "Requirement already satisfied: rpds-py>=0.7.1 in /usr/local/lib/python3.10/dist-packages (from jsonschema>=3.0->altair<6,>=4.0->streamlit) (0.21.0)\n",
      "Requirement already satisfied: mdurl~=0.1 in /usr/local/lib/python3.10/dist-packages (from markdown-it-py>=2.2.0->rich<14,>=10.14.0->streamlit) (0.1.2)\n",
      "Requirement already satisfied: six>=1.5 in /usr/local/lib/python3.10/dist-packages (from python-dateutil>=2.8.2->pandas<3,>=1.4.0->streamlit) (1.16.0)\n",
      "Downloading streamlit-1.40.1-py2.py3-none-any.whl (8.6 MB)\n",
      "\u001b[2K   \u001b[90m━━━━━━━━━━━━━━━━━━━━━━━━━━━━━━━━━━━━━━━━\u001b[0m \u001b[32m8.6/8.6 MB\u001b[0m \u001b[31m35.7 MB/s\u001b[0m eta \u001b[36m0:00:00\u001b[0m\n",
      "\u001b[?25hDownloading pydeck-0.9.1-py2.py3-none-any.whl (6.9 MB)\n",
      "\u001b[2K   \u001b[90m━━━━━━━━━━━━━━━━━━━━━━━━━━━━━━━━━━━━━━━━\u001b[0m \u001b[32m6.9/6.9 MB\u001b[0m \u001b[31m63.8 MB/s\u001b[0m eta \u001b[36m0:00:00\u001b[0m\n",
      "\u001b[?25hDownloading watchdog-6.0.0-py3-none-manylinux2014_x86_64.whl (79 kB)\n",
      "\u001b[2K   \u001b[90m━━━━━━━━━━━━━━━━━━━━━━━━━━━━━━━━━━━━━━━━\u001b[0m \u001b[32m79.1/79.1 kB\u001b[0m \u001b[31m6.8 MB/s\u001b[0m eta \u001b[36m0:00:00\u001b[0m\n",
      "\u001b[?25hInstalling collected packages: watchdog, pydeck, streamlit\n",
      "Successfully installed pydeck-0.9.1 streamlit-1.40.1 watchdog-6.0.0\n"
     ]
    }
   ],
   "source": [
    "!pip install streamlit"
   ]
  },
  {
   "cell_type": "code",
   "execution_count": 45,
   "metadata": {
    "colab": {
     "base_uri": "https://localhost:8080/",
     "height": 1000
    },
    "id": "xyrM321i_ac4",
    "outputId": "a759b6ac-7a13-46b4-f74f-f1b5b3a1d1f0"
   },
   "outputs": [
    {
     "name": "stderr",
     "output_type": "stream",
     "text": [
      "2024-11-18 20:39:43.946 WARNING streamlit.runtime.scriptrunner_utils.script_run_context: Thread 'MainThread': missing ScriptRunContext! This warning can be ignored when running in bare mode.\n",
      "2024-11-18 20:39:44.013 \n",
      "  \u001b[33m\u001b[1mWarning:\u001b[0m to view this Streamlit app on a browser, run it with the following\n",
      "  command:\n",
      "\n",
      "    streamlit run /usr/local/lib/python3.10/dist-packages/colab_kernel_launcher.py [ARGUMENTS]\n",
      "2024-11-18 20:39:44.014 Thread 'MainThread': missing ScriptRunContext! This warning can be ignored when running in bare mode.\n",
      "2024-11-18 20:39:44.019 Thread 'MainThread': missing ScriptRunContext! This warning can be ignored when running in bare mode.\n",
      "2024-11-18 20:39:44.020 Thread 'MainThread': missing ScriptRunContext! This warning can be ignored when running in bare mode.\n",
      "2024-11-18 20:39:44.023 Thread 'MainThread': missing ScriptRunContext! This warning can be ignored when running in bare mode.\n",
      "2024-11-18 20:39:44.025 Thread 'MainThread': missing ScriptRunContext! This warning can be ignored when running in bare mode.\n",
      "2024-11-18 20:39:44.028 Thread 'MainThread': missing ScriptRunContext! This warning can be ignored when running in bare mode.\n",
      "2024-11-18 20:39:44.029 Thread 'MainThread': missing ScriptRunContext! This warning can be ignored when running in bare mode.\n"
     ]
    },
    {
     "data": {
      "text/html": [
       "<span class=\"tex2jax_ignore\"><!DOCTYPE html>\n",
       "<html lang=\"pl\">\n",
       "    <head>\n",
       "        <title>displaCy</title>\n",
       "    </head>\n",
       "\n",
       "    <body style=\"font-size: 16px; font-family: -apple-system, BlinkMacSystemFont, 'Segoe UI', Helvetica, Arial, sans-serif, 'Apple Color Emoji', 'Segoe UI Emoji', 'Segoe UI Symbol'; padding: 4rem 2rem; direction: ltr\">\n",
       "<figure style=\"margin-bottom: 6rem\">\n",
       "<div class=\"entities\" style=\"line-height: 2.5; direction: ltr\">&quot;Czy w ogóle czytałeś artykuł? To były osoby, które weszły do ​​sklepu i zrobiły to osobiście. Nie ma &quot;&quot;zamówień&quot;&quot; do anulowania. Jeśli chodzi o unieważnienie kart, ponownie artykuł stwierdzał, że wiele osób wzięło \n",
       "<mark class=\"entity\" style=\"background: #ddd; padding: 0.45em 0.6em; margin: 0 0.25em; line-height: 1; border-radius: 0.35em;\">\n",
       "    Target\n",
       "    <span style=\"font-size: 0.8em; font-weight: bold; line-height: 1; border-radius: 0.35em; vertical-align: middle; margin-left: 0.5rem\">orgName</span>\n",
       "</mark>\n",
       " kart podarunkowych i wykorzystał je do zakupu kart podarunkowych \n",
       "<mark class=\"entity\" style=\"background: #ddd; padding: 0.45em 0.6em; margin: 0 0.25em; line-height: 1; border-radius: 0.35em;\">\n",
       "    Amex\n",
       "    <span style=\"font-size: 0.8em; font-weight: bold; line-height: 1; border-radius: 0.35em; vertical-align: middle; margin-left: 0.5rem\">persName</span>\n",
       "</mark>\n",
       " i \n",
       "<mark class=\"entity\" style=\"background: #ddd; padding: 0.45em 0.6em; margin: 0 0.25em; line-height: 1; border-radius: 0.35em;\">\n",
       "    Visa\n",
       "    <span style=\"font-size: 0.8em; font-weight: bold; line-height: 1; border-radius: 0.35em; vertical-align: middle; margin-left: 0.5rem\">persName</span>\n",
       "</mark>\n",
       ". tl;dr **RTFA**&quot;</div>\n",
       "</figure>\n",
       "</body>\n",
       "</html></span>"
      ],
      "text/plain": [
       "<IPython.core.display.HTML object>"
      ]
     },
     "metadata": {},
     "output_type": "display_data"
    },
    {
     "name": "stderr",
     "output_type": "stream",
     "text": [
      "2024-11-18 20:39:44.059 Thread 'MainThread': missing ScriptRunContext! This warning can be ignored when running in bare mode.\n",
      "2024-11-18 20:39:44.061 Thread 'MainThread': missing ScriptRunContext! This warning can be ignored when running in bare mode.\n",
      "2024-11-18 20:39:44.063 Thread 'MainThread': missing ScriptRunContext! This warning can be ignored when running in bare mode.\n",
      "2024-11-18 20:39:44.066 Thread 'MainThread': missing ScriptRunContext! This warning can be ignored when running in bare mode.\n",
      "2024-11-18 20:39:44.067 Thread 'MainThread': missing ScriptRunContext! This warning can be ignored when running in bare mode.\n",
      "2024-11-18 20:39:44.068 Thread 'MainThread': missing ScriptRunContext! This warning can be ignored when running in bare mode.\n"
     ]
    },
    {
     "data": {
      "text/html": [
       "<span class=\"tex2jax_ignore\"><!DOCTYPE html>\n",
       "<html lang=\"pl\">\n",
       "    <head>\n",
       "        <title>displaCy</title>\n",
       "    </head>\n",
       "\n",
       "    <body style=\"font-size: 16px; font-family: -apple-system, BlinkMacSystemFont, 'Segoe UI', Helvetica, Arial, sans-serif, 'Apple Color Emoji', 'Segoe UI Emoji', 'Segoe UI Symbol'; padding: 4rem 2rem; direction: ltr\">\n",
       "<figure style=\"margin-bottom: 6rem\">\n",
       "<div class=\"entities\" style=\"line-height: 2.5; direction: ltr\">Absolutnie możesz zostać wsadzony do więzienia w \n",
       "<mark class=\"entity\" style=\"background: #ddd; padding: 0.45em 0.6em; margin: 0 0.25em; line-height: 1; border-radius: 0.35em;\">\n",
       "    Ameryce\n",
       "    <span style=\"font-size: 0.8em; font-weight: bold; line-height: 1; border-radius: 0.35em; vertical-align: middle; margin-left: 0.5rem\">geogName</span>\n",
       "</mark>\n",
       " za dług... jeśli ten dług dotyczy rządu lub agencji rządowej (takiej jak samorząd miejski). Jeśli masz niezapłacone koszty sądowe, grzywny itp., w większości gmin powszechną praktyką jest wydawanie nakazu aresztowania, nawet jeśli brak zapłaty wynika z ubóstwa. W wielu przypadkach, nawet jeśli pojawisz się, aby wyjaśnić, dlaczego nie możesz zapłacić lub dokonać częściowej płatności w terminie, zostaniesz aresztowany i osadzony w więzieniu, dopóki sędzia nie będzie mógł wysłuchać twojego wyjaśnienia, jeśli nie t dostępny zaraz po wejściu. Co powinno się stać, że jeśli jesteś biedny (nie możesz zapłacić), sędzia wysłucha twojego wyjaśnienia i, pod warunkiem, że zostanie ustalone, że jesteś biedny, dokona korekty tego, co jesteś winien ( anuluj lub zmniejsz kwotę, przedłuż termin płatności, ustaw plan płatności itp.) i odeślij Cię w drogę. Warto wspomnieć, że nawet w przypadkach, gdy system działa tak, jak powinien, nadal istnieje bardzo realna szansa na umieszczenie w więzieniu, co nie jest nieszkodliwe – ludzie mogą i tracą pracę, gdy siedzą w więzieniu czekając na błaganie ubóstwo sędziego. I oczywiście to, co powinno się wydarzyć, nie zawsze się dzieje. \n",
       "<mark class=\"entity\" style=\"background: #ddd; padding: 0.45em 0.6em; margin: 0 0.25em; line-height: 1; border-radius: 0.35em;\">\n",
       "    Strzelaniny\n",
       "    <span style=\"font-size: 0.8em; font-weight: bold; line-height: 1; border-radius: 0.35em; vertical-align: middle; margin-left: 0.5rem\">persName</span>\n",
       "</mark>\n",
       " policyjne z ostatnich kilku lat w \n",
       "<mark class=\"entity\" style=\"background: #ddd; padding: 0.45em 0.6em; margin: 0 0.25em; line-height: 1; border-radius: 0.35em;\">\n",
       "    Missouri\n",
       "    <span style=\"font-size: 0.8em; font-weight: bold; line-height: 1; border-radius: 0.35em; vertical-align: middle; margin-left: 0.5rem\">placeName</span>\n",
       "</mark>\n",
       " rzuciły trochę światła na wiele ciemnych zakamarków tam, gdzie w rzeczywistości znajdują się de facto więzienia dla dłużników w wielu gminach. Oprócz grup praw obywatelskich, które złożyły pozew w wielu gminach \n",
       "<mark class=\"entity\" style=\"background: #ddd; padding: 0.45em 0.6em; margin: 0 0.25em; line-height: 1; border-radius: 0.35em;\">\n",
       "    Missouri\n",
       "    <span style=\"font-size: 0.8em; font-weight: bold; line-height: 1; border-radius: 0.35em; vertical-align: middle; margin-left: 0.5rem\">placeName</span>\n",
       "</mark>\n",
       ", \n",
       "<mark class=\"entity\" style=\"background: #ddd; padding: 0.45em 0.6em; margin: 0 0.25em; line-height: 1; border-radius: 0.35em;\">\n",
       "    Departament Sprawiedliwości Stanów Zjednoczonych\n",
       "    <span style=\"font-size: 0.8em; font-weight: bold; line-height: 1; border-radius: 0.35em; vertical-align: middle; margin-left: 0.5rem\">orgName</span>\n",
       "</mark>\n",
       " wniósł pozew przeciwko miastu \n",
       "<mark class=\"entity\" style=\"background: #ddd; padding: 0.45em 0.6em; margin: 0 0.25em; line-height: 1; border-radius: 0.35em;\">\n",
       "    Ferguson\n",
       "    <span style=\"font-size: 0.8em; font-weight: bold; line-height: 1; border-radius: 0.35em; vertical-align: middle; margin-left: 0.5rem\">persName</span>\n",
       "</mark>\n",
       " w związku z ich praktykami komunalnymi (w tym korzystaniem z sądów i więzień w celu generowania dochodów miejskich). Niektóre formy zadłużenia prywatnego (takie jak alimenty na dziecko) również wchodzą w zakres tego parasola, w którym zostanie wydany nakaz aresztowania za niepłacenie z jakiegokolwiek powodu, i to zostało określone jako czynnik w strzelaninie \n",
       "<mark class=\"entity\" style=\"background: #ddd; padding: 0.45em 0.6em; margin: 0 0.25em; line-height: 1; border-radius: 0.35em;\">\n",
       "    Waltera Scotta - Walter Scott\n",
       "    <span style=\"font-size: 0.8em; font-weight: bold; line-height: 1; border-radius: 0.35em; vertical-align: middle; margin-left: 0.5rem\">persName</span>\n",
       "</mark>\n",
       " uciekł, aby uniknąć bycia umieścić w więzieniu z powodu zadłużenia alimentacyjnego i stracić pracę w więzieniu. \n",
       "<mark class=\"entity\" style=\"background: #ddd; padding: 0.45em 0.6em; margin: 0 0.25em; line-height: 1; border-radius: 0.35em;\">\n",
       "    New York Times\n",
       "    <span style=\"font-size: 0.8em; font-weight: bold; line-height: 1; border-radius: 0.35em; vertical-align: middle; margin-left: 0.5rem\">placeName</span>\n",
       "</mark>\n",
       " podkreślił jego sprawę w artykule zatytułowanym: Skip Child Support. Iść do więzienia. Stracić pracę. Powtarzać. \n",
       "<mark class=\"entity\" style=\"background: #ddd; padding: 0.45em 0.6em; margin: 0 0.25em; line-height: 1; border-radius: 0.35em;\">\n",
       "    Rodney Scott\n",
       "    <span style=\"font-size: 0.8em; font-weight: bold; line-height: 1; border-radius: 0.35em; vertical-align: middle; margin-left: 0.5rem\">persName</span>\n",
       "</mark>\n",
       " powiedział, że czasami myślał, że jego brat nie zrobił wszystkiego, co mógł, aby nadrobić zaległości, ale \n",
       "<mark class=\"entity\" style=\"background: #ddd; padding: 0.45em 0.6em; margin: 0 0.25em; line-height: 1; border-radius: 0.35em;\">\n",
       "    Walter\n",
       "    <span style=\"font-size: 0.8em; font-weight: bold; line-height: 1; border-radius: 0.35em; vertical-align: middle; margin-left: 0.5rem\">persName</span>\n",
       "</mark>\n",
       " wydawał się uważać to za sprawę beznadziejną. Przypomniał sobie, jak jego brat błagał sędziego, że po prostu nie zarabia wystarczająco dużo pieniędzy. „Zapytał sędziego: „Jak mam żyć?” – powiedział \n",
       "<mark class=\"entity\" style=\"background: #ddd; padding: 0.45em 0.6em; margin: 0 0.25em; line-height: 1; border-radius: 0.35em;\">\n",
       "    Scott\n",
       "    <span style=\"font-size: 0.8em; font-weight: bold; line-height: 1; border-radius: 0.35em; vertical-align: middle; margin-left: 0.5rem\">persName</span>\n",
       "</mark>\n",
       ". „A sędzia powiedział coś w stylu:„ To twój problem. Domyśl się.' &quot;</div>\n",
       "</figure>\n",
       "</body>\n",
       "</html></span>"
      ],
      "text/plain": [
       "<IPython.core.display.HTML object>"
      ]
     },
     "metadata": {},
     "output_type": "display_data"
    },
    {
     "name": "stderr",
     "output_type": "stream",
     "text": [
      "2024-11-18 20:39:44.178 Thread 'MainThread': missing ScriptRunContext! This warning can be ignored when running in bare mode.\n",
      "2024-11-18 20:39:44.181 Thread 'MainThread': missing ScriptRunContext! This warning can be ignored when running in bare mode.\n",
      "2024-11-18 20:39:44.183 Thread 'MainThread': missing ScriptRunContext! This warning can be ignored when running in bare mode.\n",
      "2024-11-18 20:39:44.184 Thread 'MainThread': missing ScriptRunContext! This warning can be ignored when running in bare mode.\n",
      "2024-11-18 20:39:44.186 Thread 'MainThread': missing ScriptRunContext! This warning can be ignored when running in bare mode.\n",
      "2024-11-18 20:39:44.188 Thread 'MainThread': missing ScriptRunContext! This warning can be ignored when running in bare mode.\n"
     ]
    },
    {
     "data": {
      "text/html": [
       "<span class=\"tex2jax_ignore\"><!DOCTYPE html>\n",
       "<html lang=\"pl\">\n",
       "    <head>\n",
       "        <title>displaCy</title>\n",
       "    </head>\n",
       "\n",
       "    <body style=\"font-size: 16px; font-family: -apple-system, BlinkMacSystemFont, 'Segoe UI', Helvetica, Arial, sans-serif, 'Apple Color Emoji', 'Segoe UI Emoji', 'Segoe UI Symbol'; padding: 4rem 2rem; direction: ltr\">\n",
       "<figure style=\"margin-bottom: 6rem\">\n",
       "<div class=\"entities\" style=\"line-height: 2.5; direction: ltr\">Nie ma to nic wspólnego z zmuszaniem ludzi do spłaty zadłużenia; w takim przypadku lepiej byłoby, gdyby ludzie spłacali dług, a nie odsetki. Dzieje się tak dlatego, że chcesz, aby Twoja rzeczywista płatność pozostawała taka sama każdego miesiąca, co jest łatwiejsze dla większości ludzi do zrozumienia i włożenia do swojego budżetu. Nazywa się to rentą w kategoriach finansowych. Teoretycznie możesz użyć innej metody - np. spłacać co miesiąc taką samą kwotę zadłużenia - wtedy Twoje odsetki będą z czasem maleć. Ale w takim przypadku Twoja miesięczna spłata (dług + odsetki) nie będzie stabilna - będzie zaczynała się wysoko i co miesiąc maleje. Z rentą masz stały przepływ gotówki. W finansach na ogół operujesz trzema metodami spłaty zadłużenia: \n",
       "<mark class=\"entity\" style=\"background: #ddd; padding: 0.45em 0.6em; margin: 0 0.25em; line-height: 1; border-radius: 0.35em;\">\n",
       "    Annuity\n",
       "    <span style=\"font-size: 0.8em; font-weight: bold; line-height: 1; border-radius: 0.35em; vertical-align: middle; margin-left: 0.5rem\">persName</span>\n",
       "</mark>\n",
       ": Stały przepływ gotówki. Wypłata wysokich odsetek na początku przy niewielkich spłatach zadłużenia - później zostanie odwrócona. Pożyczka seryjna: Stałe spłaty zadłużenia. Płatności zadłużenia są równomiernie rozłożone w okresie - odsetki są płacone od pozostałego zadłużenia. Przepływy pieniężne będą się zmniejszać z czasem, ponieważ spłaty odsetek stają się mniejsze w każdym okresie. Pożyczka stała: Płacisz tylko odsetki od pożyczki, nie spłacasz zadłużenia w tym okresie. Cały dług jest spłacany pod koniec pożyczki. W \n",
       "<mark class=\"entity\" style=\"background: #ddd; padding: 0.45em 0.6em; margin: 0 0.25em; line-height: 1; border-radius: 0.35em;\">\n",
       "    Europie\n",
       "    <span style=\"font-size: 0.8em; font-weight: bold; line-height: 1; border-radius: 0.35em; vertical-align: middle; margin-left: 0.5rem\">geogName</span>\n",
       "</mark>\n",
       " powszechną praktyką jest łączenie 30-letniej renty z 10-letnim kredytem stałym, dzięki czemu odsetki od kredytu spłaca się tylko przez pierwsze 10 lat, a następnie zaczynasz spłacać dług i odsetki, stałą kwotę co miesiąc ( renty). Jest to szczególnie powszechne w przypadku kupujących po raz pierwszy, ponieważ zazwyczaj mają mniejsze pensje na początku życia niż później i dlatego potrzebują dodatkowej wolnej gotówki na początku dorosłego życia.</div>\n",
       "</figure>\n",
       "</body>\n",
       "</html></span>"
      ],
      "text/plain": [
       "<IPython.core.display.HTML object>"
      ]
     },
     "metadata": {},
     "output_type": "display_data"
    },
    {
     "name": "stderr",
     "output_type": "stream",
     "text": [
      "2024-11-18 20:39:44.268 Thread 'MainThread': missing ScriptRunContext! This warning can be ignored when running in bare mode.\n",
      "2024-11-18 20:39:44.270 Thread 'MainThread': missing ScriptRunContext! This warning can be ignored when running in bare mode.\n",
      "2024-11-18 20:39:44.272 Thread 'MainThread': missing ScriptRunContext! This warning can be ignored when running in bare mode.\n",
      "2024-11-18 20:39:44.273 Thread 'MainThread': missing ScriptRunContext! This warning can be ignored when running in bare mode.\n",
      "2024-11-18 20:39:44.275 Thread 'MainThread': missing ScriptRunContext! This warning can be ignored when running in bare mode.\n",
      "2024-11-18 20:39:44.277 Thread 'MainThread': missing ScriptRunContext! This warning can be ignored when running in bare mode.\n"
     ]
    },
    {
     "data": {
      "text/html": [
       "<span class=\"tex2jax_ignore\"><!DOCTYPE html>\n",
       "<html lang=\"pl\">\n",
       "    <head>\n",
       "        <title>displaCy</title>\n",
       "    </head>\n",
       "\n",
       "    <body style=\"font-size: 16px; font-family: -apple-system, BlinkMacSystemFont, 'Segoe UI', Helvetica, Arial, sans-serif, 'Apple Color Emoji', 'Segoe UI Emoji', 'Segoe UI Symbol'; padding: 4rem 2rem; direction: ltr\">\n",
       "<figure style=\"margin-bottom: 6rem\">\n",
       "<div class=\"entities\" style=\"line-height: 2.5; direction: ltr\">„Tylko dla wyjaśnienia, w wikipedii, gdy mówi się, że jest zdefiniowany jako rynek, na którym pieniądze są dostarczane przez okresy dłuższe niż rok. Odnoszą się do firmy, która prosi o pieniądze. Na przykład giełda zapewnia pieniądze emitentowi. firma z \n",
       "<mark class=\"entity\" style=\"background: #ddd; padding: 0.45em 0.6em; margin: 0 0.25em; line-height: 1; border-radius: 0.35em;\">\n",
       "    IPO\n",
       "    <span style=\"font-size: 0.8em; font-weight: bold; line-height: 1; border-radius: 0.35em; vertical-align: middle; margin-left: 0.5rem\">orgName</span>\n",
       "</mark>\n",
       ", na czas nieokreślony. Oznacza to, że firma, która właśnie weszła na giełdę, otrzymuje pieniądze na okres dłuższy niż rok. Definicja w \n",
       "<mark class=\"entity\" style=\"background: #ddd; padding: 0.45em 0.6em; margin: 0 0.25em; line-height: 1; border-radius: 0.35em;\">\n",
       "    Investopedia\n",
       "    <span style=\"font-size: 0.8em; font-weight: bold; line-height: 1; border-radius: 0.35em; vertical-align: middle; margin-left: 0.5rem\">orgName</span>\n",
       "</mark>\n",
       " zasadniczo mówi to samo, co robi \n",
       "<mark class=\"entity\" style=\"background: #ddd; padding: 0.45em 0.6em; margin: 0 0.25em; line-height: 1; border-radius: 0.35em;\">\n",
       "    Wikipedia\n",
       "    <span style=\"font-size: 0.8em; font-weight: bold; line-height: 1; border-radius: 0.35em; vertical-align: middle; margin-left: 0.5rem\">orgName</span>\n",
       "</mark>\n",
       ", jest po prostu sformułowana nieco inaczej i pomija &quot;&quot;dla okresy dłuższe niż rok”. Na przykład \n",
       "<mark class=\"entity\" style=\"background: #ddd; padding: 0.45em 0.6em; margin: 0 0.25em; line-height: 1; border-radius: 0.35em;\">\n",
       "    Wikipedia\n",
       "    <span style=\"font-size: 0.8em; font-weight: bold; line-height: 1; border-radius: 0.35em; vertical-align: middle; margin-left: 0.5rem\">orgName</span>\n",
       "</mark>\n",
       " używa terminów „przedsiębiorstwa” i „rządy”, podczas gdy \n",
       "<mark class=\"entity\" style=\"background: #ddd; padding: 0.45em 0.6em; margin: 0 0.25em; line-height: 1; border-radius: 0.35em;\">\n",
       "    Investopedia\n",
       "    <span style=\"font-size: 0.8em; font-weight: bold; line-height: 1; border-radius: 0.35em; vertical-align: middle; margin-left: 0.5rem\">persName</span>\n",
       "</mark>\n",
       " używa terminu sektor prywatny i sektor publiczny, w tym kontekście „przedsiębiorstwo biznesowe” to „prywatne sektor&quot;&quot; i &quot;&quot;rządy&quot;&quot; to &quot;&quot;sektor publiczny&quot;&quot; Zatem w sensie długości emisji długu tak, rynek pieniężny byłby przeciwieństwem rynku kapitałowego, ale oba rynki nadal oferują miejsce dla rządów i firm zbierać pieniądze i jedno i drugie są klasyfikowane jako rynki finansowe.&quot;</div>\n",
       "</figure>\n",
       "</body>\n",
       "</html></span>"
      ],
      "text/plain": [
       "<IPython.core.display.HTML object>"
      ]
     },
     "metadata": {},
     "output_type": "display_data"
    },
    {
     "name": "stderr",
     "output_type": "stream",
     "text": [
      "2024-11-18 20:39:44.333 Thread 'MainThread': missing ScriptRunContext! This warning can be ignored when running in bare mode.\n",
      "2024-11-18 20:39:44.335 Thread 'MainThread': missing ScriptRunContext! This warning can be ignored when running in bare mode.\n",
      "2024-11-18 20:39:44.337 Thread 'MainThread': missing ScriptRunContext! This warning can be ignored when running in bare mode.\n",
      "2024-11-18 20:39:44.339 Thread 'MainThread': missing ScriptRunContext! This warning can be ignored when running in bare mode.\n",
      "2024-11-18 20:39:44.342 Thread 'MainThread': missing ScriptRunContext! This warning can be ignored when running in bare mode.\n",
      "2024-11-18 20:39:44.343 Thread 'MainThread': missing ScriptRunContext! This warning can be ignored when running in bare mode.\n"
     ]
    },
    {
     "data": {
      "text/html": [
       "<span class=\"tex2jax_ignore\"><!DOCTYPE html>\n",
       "<html lang=\"pl\">\n",
       "    <head>\n",
       "        <title>displaCy</title>\n",
       "    </head>\n",
       "\n",
       "    <body style=\"font-size: 16px; font-family: -apple-system, BlinkMacSystemFont, 'Segoe UI', Helvetica, Arial, sans-serif, 'Apple Color Emoji', 'Segoe UI Emoji', 'Segoe UI Symbol'; padding: 4rem 2rem; direction: ltr\">\n",
       "<figure style=\"margin-bottom: 6rem\">\n",
       "<div class=\"entities\" style=\"line-height: 2.5; direction: ltr\">&quot;&gt; Ale ten wzrost był tylko na tyle duży, że zlikwidował niewielki spadek w \n",
       "<mark class=\"entity\" style=\"background: #bfe1d9; padding: 0.45em 0.6em; margin: 0 0.25em; line-height: 1; border-radius: 0.35em;\">\n",
       "    2000 roku\n",
       "    <span style=\"font-size: 0.8em; font-weight: bold; line-height: 1; border-radius: 0.35em; vertical-align: middle; margin-left: 0.5rem\">date</span>\n",
       "</mark>\n",
       " pod rządami \n",
       "<mark class=\"entity\" style=\"background: #ddd; padding: 0.45em 0.6em; margin: 0 0.25em; line-height: 1; border-radius: 0.35em;\">\n",
       "    Helen\n",
       "    <span style=\"font-size: 0.8em; font-weight: bold; line-height: 1; border-radius: 0.35em; vertical-align: middle; margin-left: 0.5rem\">placeName</span>\n",
       "</mark>\n",
       " Clark, kiedy Praca dla rodzin i inne programy przechyliły szalę z powrotem w stronę sprawiedliwości. Nie sądzę, żebyś pomógł swojej sprawie, gdy twój argument mówi dosłownie &quot;&quot;wystarczająco duże, aby anulować ... sprawiedliwość.&quot;&quot;&quot;</div>\n",
       "</figure>\n",
       "</body>\n",
       "</html></span>"
      ],
      "text/plain": [
       "<IPython.core.display.HTML object>"
      ]
     },
     "metadata": {},
     "output_type": "display_data"
    }
   ],
   "source": [
    "import streamlit as st\n",
    "from spacy import displacy\n",
    "\n",
    "def extract_sentences_with_entities(texts):\n",
    "    sentences_with_entities = []\n",
    "\n",
    "    for text in texts:\n",
    "        doc = nlp(text)\n",
    "\n",
    "        entities = [(ent.text, ent.label_) for ent in doc.ents]\n",
    "\n",
    "        if len(set([label for _, label in entities])) >= 2:\n",
    "            sentences_with_entities.append((text, entities))\n",
    "\n",
    "    return sentences_with_entities[:5]\n",
    "\n",
    "sentences_with_entities = extract_sentences_with_entities(texts)\n",
    "\n",
    "st.title('Named Entity Recognition - Example Sentences')\n",
    "\n",
    "for sentence, entities in sentences_with_entities:\n",
    "    st.subheader(\"Sentence:\")\n",
    "    st.write(sentence)\n",
    "\n",
    "    doc = nlp(sentence)\n",
    "    displacy.render(doc, style=\"ent\", page=True)"
   ]
  },
  {
   "cell_type": "markdown",
   "metadata": {
    "id": "3nOe_U1lAnSC"
   },
   "source": [
    "## Questions"
   ]
  },
  {
   "cell_type": "markdown",
   "metadata": {
    "id": "MTznvsK2Ap3e"
   },
   "source": [
    "1. Which of the method (counting expressions with capital letters vs. NER) worked better for the task concerned with identification of the proper names?\n",
    "\n",
    "NER is better because it takes into account the context and types of named entities, which allows for more accurate recognition of proper names, compared to simply counting words written in capital letters.\n",
    "\n",
    "2. What are the drawbacks of the method based on capital letters?\n",
    "\n",
    "The disadvantages of this method are its lack of precision, the possibility of incorrectly recognizing non-proper names, and the lack of context consideration, which leads to false positives.\n",
    "\n",
    "3. What are the drawbacks of the method based on NER?\n",
    "\n",
    "The disadvantages of the NER method are errors in recognizing less common entities, high computational requirements, and the possibility of incorrect classification of entities in difficult contexts.\n",
    "\n",
    "4. Which of the coarse-grained NER groups has the best and which has the worst results? Try to justify this observation.\n",
    "\n",
    "Groups such as locations and organizations tend to perform best because they have clear patterns that are easier to recognize. Individuals may perform worse because names can be ambiguous and come in different forms.\n",
    "\n",
    "5. Do you think NER is sufficient for identifying different occurrences of the same entity (i.e. consider \"USA\" and \"Stany Zjednoczone\" and \"Stany Zjednoczone Ameryki Północnej\")? If not, can you suggest an algorithm or a tool that would be able to group such names together?\n",
    "\n",
    "NER is not sufficient to identify different instances of the same entity. Clustering algorithms or textual similarity measures such as Cosine Similarity or embedding-based models such as BERT can be used to group such names.\n",
    "\n",
    "6. Can you think of a real world problem that would benefit the most from application of Named Entity Recognition algorithm?\n",
    "\n",
    "An example is sentiment analysis in social media, where NER helps to recognize the names of companies, products, people or events, enabling automatic monitoring of opinions and trends at scale."
   ]
  }
 ],
 "metadata": {
  "colab": {
   "provenance": []
  },
  "kernelspec": {
   "display_name": "Python 3",
   "name": "python3"
  },
  "language_info": {
   "codemirror_mode": {
    "name": "ipython",
    "version": 3
   },
   "file_extension": ".py",
   "mimetype": "text/x-python",
   "name": "python",
   "nbconvert_exporter": "python",
   "pygments_lexer": "ipython3",
   "version": "3.11.5"
  }
 },
 "nbformat": 4,
 "nbformat_minor": 0
}
